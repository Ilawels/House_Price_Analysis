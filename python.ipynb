{
 "cells": [
  {
   "cell_type": "markdown",
   "id": "0aafb623",
   "metadata": {},
   "source": [
    "# LOAD PACKAGES FOR PROJECT"
   ]
  },
  {
   "cell_type": "code",
   "execution_count": null,
   "id": "2abf8331",
   "metadata": {},
   "outputs": [],
   "source": [
    "from bs4 import BeautifulSoup as Soup\n",
    "import bs4\n",
    "import pandas as pd\n",
    "import import_ipynb\n",
    "import numpy as np\n",
    "import requests\n",
    "from datetime import datetime\n",
    "import url_file\n",
    "from datetime import timedelta"
   ]
  },
  {
   "cell_type": "markdown",
   "id": "302c407b",
   "metadata": {},
   "source": [
    "# HOUSE PRICE DATA EXTRACTION :\n",
    "## DATA WAS SCRAPED FROM :\" - Website link details embeded in url_file for privacy"
   ]
  },
  {
   "cell_type": "code",
   "execution_count": null,
   "id": "febd9861",
   "metadata": {},
   "outputs": [],
   "source": [
    "def preview():\n",
    "    for i in range(0,1):\n",
    "      url=url_file.url\n",
    "      r=requests.get(url).text\n",
    "      soup=Soup(r,'html.parser')\n",
    "      return soup.prettify()\n",
    "\n",
    "preview()"
   ]
  },
  {
   "cell_type": "code",
   "execution_count": null,
   "id": "241c3ea6",
   "metadata": {},
   "outputs": [],
   "source": [
    "image_url=[]\n",
    "Description=[]\n",
    "Address=[]\n",
    "Date=[]\n",
    "Price=[]\n",
    "Bedroom=[]\n",
    "Bathroom=[]\n",
    "Toilet=[]\n",
    "for i in range(0,800):\n",
    "    url=url_file.url+str(i)\n",
    "    r=requests.get(url).text\n",
    "    soup=Soup(r,'html.parser')\n",
    "    wal=soup.find('div',{'class':'result-listings'})\n",
    "    for info in wal.find_all('div',{'class':'similar-listings-info'}):\n",
    "         description=info.find('h2')\n",
    "         Description.append(description.text)\n",
    "         address=info.find('p',{'class':'listings-location'})\n",
    "         Address.append(address.text)\n",
    "         date=info.find('div',{'class':'media'}).find('div',{'class':'media-body'}).find('h5',{'class':'mt-0'})\n",
    "         Date.append(date.text)\n",
    "    for info2 in wal.find_all('div',{'class':'similar-listings-price'}):\n",
    "         price=info2.find('h4')\n",
    "         Price.append(price.text)\n",
    "         rooms=info2.find_all('ul',{'class':'property-benefit'})\n",
    "         for room in rooms:\n",
    "            col=room.find_all('li')\n",
    "            bedroom=col[0].text\n",
    "            bathroom=col[1].text\n",
    "            toilet=col[2].text\n",
    "            Bedroom.append(bedroom)\n",
    "            Bathroom.append(bathroom)\n",
    "            Toilet.append(toilet)"
   ]
  },
  {
   "cell_type": "markdown",
   "id": "956ec83c",
   "metadata": {},
   "source": [
    "## DATA COLLECTION & DATA CLEANING\n",
    "STORED IN A DICTIONARY CONVERTED TO DATAFRAME"
   ]
  },
  {
   "cell_type": "code",
   "execution_count": null,
   "id": "a8163e82",
   "metadata": {},
   "outputs": [],
   "source": [
    "property_dict={\"description\":Description,\n",
    "               \"Address\":Address,\"Date\":Date,\"Price\":Price,\"Bedroom\":Bedroom,\n",
    "              \"Bathroom\":Bathroom,\"Toilet\":Toilet}\n",
    "df=pd.DataFrame(property_dict)"
   ]
  },
  {
   "cell_type": "code",
   "execution_count": null,
   "id": "24384578",
   "metadata": {},
   "outputs": [],
   "source": [
    "df[[\"date\",\"cols\"]]=df[\"Date\"].str.split(',',expand=True)\n",
    "df.drop([\"Date\",\"cols\"],axis=1,inplace=True)"
   ]
  },
  {
   "cell_type": "code",
   "execution_count": null,
   "id": "b7aeb207",
   "metadata": {},
   "outputs": [],
   "source": [
    "df.head()"
   ]
  },
  {
   "cell_type": "code",
   "execution_count": null,
   "id": "df59c683",
   "metadata": {},
   "outputs": [],
   "source": [
    "df[\"date\"]=df[\"date\"].replace(\"Updated Today\",datetime.now().strftime(\"%d %b %Y\"))\n",
    "df[\"date\"]=df[\"date\"].replace(\"Added Today\",datetime.now().strftime(\"%d %b %Y\"))\n",
    "df[\"date\"]=df[\"date\"].replace(\"Updated Yesterday\",(datetime.now()-timedelta(days = 1)).strftime(\"%d %b %Y\"))\n",
    "df[\"date\"]=df[\"date\"].replace({\"Updated \":\"\",\"Added \":\"\",\"  \":\"\"},regex=True)"
   ]
  },
  {
   "cell_type": "code",
   "execution_count": null,
   "id": "1df3f717",
   "metadata": {},
   "outputs": [],
   "source": [
    "df[\"Toilet\"].replace({\"\\n\":\"\",\" \":\"\"},regex=True,inplace=True)\n",
    "df[\"Bedroom\"].replace({\"\\n\":\"\",\" \":\"\"},regex=True,inplace=True)\n",
    "df[\"Bathroom\"].replace({\"\\n\":\"\",\" \":\"\"},regex=True,inplace=True)\n",
    "df[\"Price\"].replace({\"/sqm\":\"\",\"/day\":\"\",\"/month\":\"\",\"/year\":\"\",\",\":\"\",\" \":\"\"},regex=True,inplace=True)\n",
    "df[\"Address\"].replace({\"\\n\":\"\"},regex=True,inplace=True)\n",
    "df=df.replace('',0,regex = True)"
   ]
  },
  {
   "cell_type": "code",
   "execution_count": null,
   "id": "7a8488ef",
   "metadata": {},
   "outputs": [],
   "source": [
    "df.head(4)"
   ]
  },
  {
   "cell_type": "code",
   "execution_count": null,
   "id": "451883e7",
   "metadata": {},
   "outputs": [],
   "source": [
    "df[\"Currency\"]=df[\"Price\"].str.slice(stop=1)\n",
    "df[\"Price\"].replace({\"₦\":\"\",\"$\":\"\",\"$\":\"\"},regex=True,inplace=True)"
   ]
  },
  {
   "cell_type": "code",
   "execution_count": null,
   "id": "70fb9b4a",
   "metadata": {},
   "outputs": [],
   "source": [
    "df[\"Bedroom\"]=df[\"Bedroom\"].astype('int')\n",
    "df[\"Bathroom\"]=df[\"Bathroom\"].astype('int')\n",
    "df[\"Toilet\"]=df[\"Toilet\"].astype('int')\n",
    "df[\"date\"]=pd.to_datetime(df[\"date\"])"
   ]
  },
  {
   "cell_type": "code",
   "execution_count": null,
   "id": "2629ffc9",
   "metadata": {},
   "outputs": [],
   "source": [
    "df.dtypes"
   ]
  },
  {
   "cell_type": "code",
   "execution_count": null,
   "id": "ed49cf6c",
   "metadata": {},
   "outputs": [],
   "source": [
    "df.head()"
   ]
  },
  {
   "cell_type": "code",
   "execution_count": null,
   "id": "c5748b22",
   "metadata": {},
   "outputs": [],
   "source": [
    "df.dtypes"
   ]
  },
  {
   "cell_type": "code",
   "execution_count": null,
   "id": "d0e5600d",
   "metadata": {},
   "outputs": [],
   "source": [
    "df[\"date\"]=pd.to_datetime(df[\"date\"])\n",
    "df[\"Price\"]=df[\"Price\"].astype('int')"
   ]
  },
  {
   "cell_type": "code",
   "execution_count": null,
   "id": "8a90742d",
   "metadata": {},
   "outputs": [],
   "source": [
    "df[\"State\"]=df[\"Address\"].str.split().str[-1]\n",
    "df[\"State\"]=df[\"State\"].replace({\"4\":\"Abuja\",\"Area\":\"Enugu\"})\n",
    "df[\"Location\"]=df[\"Address\"].str.split().str[-2]"
   ]
  },
  {
   "cell_type": "code",
   "execution_count": null,
   "id": "1f4259c9",
   "metadata": {},
   "outputs": [],
   "source": [
    "df.head(2)"
   ]
  },
  {
   "cell_type": "code",
   "execution_count": null,
   "id": "99b90cbd",
   "metadata": {},
   "outputs": [],
   "source": [
    "df.drop_duplicates"
   ]
  },
  {
   "cell_type": "code",
   "execution_count": null,
   "id": "e8c8857a",
   "metadata": {},
   "outputs": [],
   "source": [
    "df.describe(include=\"all\")"
   ]
  },
  {
   "cell_type": "code",
   "execution_count": null,
   "id": "46156658",
   "metadata": {},
   "outputs": [],
   "source": [
    "df.to_csv(\"originalhousedata.csv\")"
   ]
  },
  {
   "cell_type": "markdown",
   "id": "48f9ef14",
   "metadata": {},
   "source": [
    "#  The Price column was converted to naira and currency column was deleted."
   ]
  },
  {
   "cell_type": "code",
   "execution_count": null,
   "id": "0d29c258",
   "metadata": {},
   "outputs": [],
   "source": [
    "df=pd.read_csv(\"originalhousedata.csv\")"
   ]
  },
  {
   "cell_type": "code",
   "execution_count": null,
   "id": "ec43d75f",
   "metadata": {},
   "outputs": [],
   "source": [
    "df.head()"
   ]
  },
  {
   "cell_type": "code",
   "execution_count": null,
   "id": "ef0967c7",
   "metadata": {},
   "outputs": [],
   "source": [
    "df.dtypes"
   ]
  },
  {
   "cell_type": "code",
   "execution_count": null,
   "id": "83aef259",
   "metadata": {},
   "outputs": [],
   "source": [
    "df[\"date\"]=pd.to_datetime(df[\"date\"])\n",
    "df.drop(\"Unnamed: 0\", axis=1, inplace= True)"
   ]
  },
  {
   "cell_type": "markdown",
   "id": "3ceeea64",
   "metadata": {},
   "source": [
    "## EDA"
   ]
  },
  {
   "cell_type": "code",
   "execution_count": null,
   "id": "34bbf16e",
   "metadata": {},
   "outputs": [],
   "source": [
    "import matplotlib.pyplot as plt\n",
    "import seaborn as sns\n",
    "%matplotlib inline"
   ]
  },
  {
   "cell_type": "code",
   "execution_count": null,
   "id": "2838c49c",
   "metadata": {},
   "outputs": [],
   "source": [
    "print(df[[\"Price\",\"Bedroom\",\"Bathroom\",\"Toilet\"]].corr())\n",
    "dfplot= sns.heatmap(df[[\"Price\",\"Bedroom\",\"Bathroom\",\"Toilet\"]].corr(),annot=True)\n",
    "plt.show()"
   ]
  },
  {
   "cell_type": "code",
   "execution_count": null,
   "id": "6a59c7a9",
   "metadata": {},
   "outputs": [],
   "source": [
    "df[\"State\"].value_counts().to_frame()"
   ]
  },
  {
   "cell_type": "markdown",
   "id": "897dec88",
   "metadata": {},
   "source": [
    "# Average price per state"
   ]
  },
  {
   "cell_type": "code",
   "execution_count": null,
   "id": "8ea5e1b1",
   "metadata": {},
   "outputs": [],
   "source": [
    "df1=df[[\"State\",\"Price\"]]\n",
    "df1=df1.groupby(df1[\"State\"]).mean().round(0)\n",
    "df1.plot(kind='bar')\n",
    "plt.ylabel(\"AVG. Price\")\n",
    "plt.title(\"Average price per state \")"
   ]
  },
  {
   "cell_type": "markdown",
   "id": "5604894a",
   "metadata": {},
   "source": [
    "# Maximum & minimum price per state (most expensive & least expensive houses prices per state)"
   ]
  },
  {
   "cell_type": "code",
   "execution_count": null,
   "id": "4a3d7b42",
   "metadata": {},
   "outputs": [],
   "source": [
    "df2=df[[\"State\",\"Price\"]].where(df[\"Price\"]>=400000)\n",
    "df2i=df2.groupby(df2[\"State\"]).min()\n",
    "df2ii=df2.groupby(df2[\"State\"]).max()"
   ]
  },
  {
   "cell_type": "code",
   "execution_count": null,
   "id": "bd06dc28",
   "metadata": {},
   "outputs": [],
   "source": [
    "print(df2i.sort_values(by=\"Price\"))\n",
    "df2i.sort_values(by=\"Price\")[:10].plot(kind=\"bar\",ylabel=\"Price(*10^6)\",title=\"States with lowest minimum price\")\n",
    "df2i.sort_values(by=\"Price\")[10:].plot(kind=\"bar\",ylabel=\"Price(*10^8)\",title=\"States with highest minimum price\")"
   ]
  },
  {
   "cell_type": "code",
   "execution_count": null,
   "id": "d55b8c3b",
   "metadata": {},
   "outputs": [],
   "source": [
    "print(df2ii.sort_values(by=\"Price\"))\n",
    "df2ii.sort_values(by=\"Price\")[:10].plot(kind=\"bar\",ylabel=\"Price(*10^8)\",title=\"States with lowest maximum price\")\n",
    "df2ii.sort_values(by=\"Price\")[10:].plot(kind=\"bar\",ylabel=\"Price(*10^9)\",title=\"States with highest maximum price\")"
   ]
  },
  {
   "cell_type": "markdown",
   "id": "a1cd13bc",
   "metadata": {},
   "source": [
    "# Frequent house description"
   ]
  },
  {
   "cell_type": "code",
   "execution_count": null,
   "id": "9325b727",
   "metadata": {},
   "outputs": [],
   "source": [
    "df[\"description\"].value_counts()[:10]"
   ]
  },
  {
   "cell_type": "code",
   "execution_count": null,
   "id": "c96a5831",
   "metadata": {},
   "outputs": [],
   "source": [
    "df[\"description\"].value_counts()[:10].plot(kind=\"barh\")"
   ]
  },
  {
   "cell_type": "markdown",
   "id": "84b69c56",
   "metadata": {},
   "source": [
    "# Most expensive house description"
   ]
  },
  {
   "cell_type": "code",
   "execution_count": null,
   "id": "572eba0a",
   "metadata": {},
   "outputs": [],
   "source": [
    "df2=df[[\"description\",\"Price\"]]\n",
    "df2=df2.groupby(df2[\"description\"]).max()[:10].sort_values(by=\"Price\",ascending=False)\n",
    "df2"
   ]
  },
  {
   "cell_type": "markdown",
   "id": "e1c154b3",
   "metadata": {},
   "source": [
    "# Post per date in year 2023"
   ]
  },
  {
   "cell_type": "code",
   "execution_count": null,
   "id": "4cf44da0",
   "metadata": {},
   "outputs": [],
   "source": [
    "df[\"date\"].where((df[\"date\"].dt.year)==2023).value_counts().plot(kind=\"line\",ylabel=\"Number of posted sales\",\n",
    "                                                                 title=\"Sales posted per date\",figsize=(15,10))"
   ]
  },
  {
   "cell_type": "markdown",
   "id": "5817cfad",
   "metadata": {},
   "source": [
    "# Unique Locations"
   ]
  },
  {
   "cell_type": "code",
   "execution_count": null,
   "id": "d568d7e3",
   "metadata": {},
   "outputs": [],
   "source": [
    "df[\"Location\"].value_counts()\n",
    "location= list(df[\"Location\"].unique())\n",
    "unwanted=[1,2,3,4]\n",
    "location=sorted(location, reverse = True)\n",
    "del location[-4:]\n",
    "location"
   ]
  },
  {
   "cell_type": "code",
   "execution_count": null,
   "id": "c7afc3b6",
   "metadata": {},
   "outputs": [],
   "source": []
  }
 ],
 "metadata": {
  "kernelspec": {
   "display_name": "Python 3",
   "language": "python",
   "name": "python3"
  },
  "language_info": {
   "codemirror_mode": {
    "name": "ipython",
    "version": 3
   },
   "file_extension": ".py",
   "mimetype": "text/x-python",
   "name": "python",
   "nbconvert_exporter": "python",
   "pygments_lexer": "ipython3",
   "version": "3.8.8"
  }
 },
 "nbformat": 4,
 "nbformat_minor": 5
}
